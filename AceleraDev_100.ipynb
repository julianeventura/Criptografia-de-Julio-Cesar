{
 "cells": [
  {
   "cell_type": "code",
   "execution_count": 1,
   "metadata": {},
   "outputs": [],
   "source": [
    "###IMPORT DAS BIBLIOTECAS QUE SERÃO USADAS\n",
    "\n",
    "import requests\n",
    "import json\n",
    "import hashlib"
   ]
  },
  {
   "cell_type": "code",
   "execution_count": 2,
   "metadata": {},
   "outputs": [],
   "source": [
    "###REQUISIÇÃO HTTP\n",
    "\n",
    "response = requests.get('https://api.codenation.dev/v1/challenge/dev-ps/generate-data?token=a4299254b61dec7ac5bf17b4c7f0fba487b5624e')"
   ]
  },
  {
   "cell_type": "code",
   "execution_count": 3,
   "metadata": {},
   "outputs": [
    {
     "data": {
      "text/plain": [
       "b'{\"numero_casas\":7,\"token\":\"2a7971a2f9916754246c74dacae9c608f53247c2\",\"cifrado\":\"wshu av aoyvd vul (ptwsltluahapvu) hdhf; fvb dpss, hufovd. mylk iyvvrz\",\"decifrado\":\"\",\"resumo_criptografico\":\"\"}\\n'"
      ]
     },
     "execution_count": 3,
     "metadata": {},
     "output_type": "execute_result"
    }
   ],
   "source": [
    "###VERIFICAÇÃO DO QUE TEM DENTRO DA REQUISIÇÃO\n",
    "\n",
    "response.content"
   ]
  },
  {
   "cell_type": "code",
   "execution_count": 4,
   "metadata": {},
   "outputs": [],
   "source": [
    "###SALVANDO O ARQUIVO OBTIDO\n",
    "\n",
    "a = response.json()\n",
    "\n",
    "with open('resp_text.json', 'w') as jsonFile:\n",
    "    json.dump(a, jsonFile)"
   ]
  },
  {
   "cell_type": "code",
   "execution_count": 5,
   "metadata": {},
   "outputs": [],
   "source": [
    "###CARREGAMENTO DO ARQUIVO\n",
    "\n",
    "with open('resp_text.json', 'r') as jsonFile:\n",
    "    answer = json.load(jsonFile)"
   ]
  },
  {
   "cell_type": "code",
   "execution_count": 6,
   "metadata": {},
   "outputs": [],
   "source": [
    "###CÓDIGO PARA OBTER O TEXTO DECIFRADO\n",
    "\n",
    "class Caesar:\n",
    "    def __init__(self):\n",
    "        self.__letters = 'ABCDEFGHIJKLMNOPQRSTUVWXYZ'\n",
    "  \n",
    "    def decrypt(self, texto_cifrado,  key = a['numero_casas']):\n",
    "        ''' (Caesar, str, int) -> str\n",
    " \n",
    "        Retorna em texto plano o texto decifrado com a cifra de Cesar, utilizando a chave\n",
    "        '''\n",
    "        plain_text = ''\n",
    "        texto_cifrado = texto_cifrado.upper()\n",
    "        for ch in texto_cifrado:\n",
    "            if ch in self.__letters:\n",
    "                idx = self.__letters.find(ch) - key\n",
    "                plain_text += self.__letters[idx]\n",
    "            else:\n",
    "                idx = ch\n",
    "                plain_text += idx    \n",
    "        return plain_text.lower()"
   ]
  },
  {
   "cell_type": "code",
   "execution_count": 7,
   "metadata": {},
   "outputs": [
    {
     "name": "stdout",
     "output_type": "stream",
     "text": [
      "plan to throw one (implementation) away; you will, anyhow. fred brooks\n"
     ]
    }
   ],
   "source": [
    "###OBTENÇÃO DO TEXTO DECIFRADO\n",
    "\n",
    "decrypt = Caesar().decrypt(a['cifrado'])\n",
    "print(decrypt)"
   ]
  },
  {
   "cell_type": "code",
   "execution_count": 8,
   "metadata": {},
   "outputs": [],
   "source": [
    "###ATUALIZAÇÃO DO JSON\n",
    "\n",
    "answer['decifrado'] = decrypt"
   ]
  },
  {
   "cell_type": "code",
   "execution_count": 9,
   "metadata": {},
   "outputs": [
    {
     "data": {
      "text/plain": [
       "{'numero_casas': 7,\n",
       " 'token': '2a7971a2f9916754246c74dacae9c608f53247c2',\n",
       " 'cifrado': 'wshu av aoyvd vul (ptwsltluahapvu) hdhf; fvb dpss, hufovd. mylk iyvvrz',\n",
       " 'decifrado': 'plan to throw one (implementation) away; you will, anyhow. fred brooks',\n",
       " 'resumo_criptografico': ''}"
      ]
     },
     "execution_count": 9,
     "metadata": {},
     "output_type": "execute_result"
    }
   ],
   "source": [
    "###CONFERINDO A ATUALIZAÇÃO\n",
    "\n",
    "answer"
   ]
  },
  {
   "cell_type": "code",
   "execution_count": 10,
   "metadata": {},
   "outputs": [],
   "source": [
    "###CÓDIGO PARA OBTENÇÃO DO RESUMO ATRAVÉS DO SHA1\n",
    "\n",
    "hash_object = hashlib.sha1(b'plan to throw one (implementation) away; you will, anyhow. fred brooks')"
   ]
  },
  {
   "cell_type": "code",
   "execution_count": 11,
   "metadata": {},
   "outputs": [
    {
     "name": "stdout",
     "output_type": "stream",
     "text": [
      "2dab381e8f3df45c68a6fe7b59254267c439e842\n"
     ]
    }
   ],
   "source": [
    "###OBTENÇÃO DO RESUMO\n",
    "\n",
    "resumo = hash_object.hexdigest()\n",
    "print(hash_object.hexdigest())"
   ]
  },
  {
   "cell_type": "code",
   "execution_count": 12,
   "metadata": {},
   "outputs": [],
   "source": [
    "###ATUALIZAÇÃO DO JSON\n",
    "\n",
    "answer['resumo_criptografico'] = resumo"
   ]
  },
  {
   "cell_type": "code",
   "execution_count": 13,
   "metadata": {},
   "outputs": [
    {
     "data": {
      "text/plain": [
       "{'numero_casas': 7,\n",
       " 'token': '2a7971a2f9916754246c74dacae9c608f53247c2',\n",
       " 'cifrado': 'wshu av aoyvd vul (ptwsltluahapvu) hdhf; fvb dpss, hufovd. mylk iyvvrz',\n",
       " 'decifrado': 'plan to throw one (implementation) away; you will, anyhow. fred brooks',\n",
       " 'resumo_criptografico': '2dab381e8f3df45c68a6fe7b59254267c439e842'}"
      ]
     },
     "execution_count": 13,
     "metadata": {},
     "output_type": "execute_result"
    }
   ],
   "source": [
    "###CONFERINDO A ATUALIZAÇÃO\n",
    "\n",
    "answer"
   ]
  },
  {
   "cell_type": "code",
   "execution_count": 14,
   "metadata": {},
   "outputs": [],
   "source": [
    "###SALVANDO O CONTEÚDO FINAL EM UM JSON\n",
    "\n",
    "with open('answer.json', 'w') as jsonFile:\n",
    "    json.dump(answer, jsonFile)"
   ]
  },
  {
   "cell_type": "code",
   "execution_count": 15,
   "metadata": {},
   "outputs": [],
   "source": [
    "###URL DA API PARA A SUBMISSÃO DO ARQUIVO ATUALIZADO\n",
    "\n",
    "url = 'https://api.codenation.dev/v1/challenge/dev-ps/submit-solution?token='+answer['token']"
   ]
  },
  {
   "cell_type": "code",
   "execution_count": 16,
   "metadata": {},
   "outputs": [],
   "source": [
    "###SETANDO OS PARAMETROS EM FILES\n",
    "\n",
    "files = {\n",
    "    'answer': ('answer', open('answer.json','rb'), 'application/json'), \n",
    "    'Content-Type':'multipart/form-data; boundary=--------------------------665956835435877517162732'\n",
    "}\n",
    "\n",
    "###OBS: BOUNDARY OBTIDO ATRAVÉS DO PROGRAMA POSTMAN"
   ]
  },
  {
   "cell_type": "code",
   "execution_count": 17,
   "metadata": {},
   "outputs": [],
   "source": [
    "###SUBMETENDO O ARQUIVO ATUALIZADO VIA POST PARA A API\n",
    "\n",
    "r = requests.post(url, files=files)"
   ]
  },
  {
   "cell_type": "code",
   "execution_count": 18,
   "metadata": {
    "scrolled": false
   },
   "outputs": [
    {
     "name": "stdout",
     "output_type": "stream",
     "text": [
      "Parabéns! A requisição foi um sucesso :)\n",
      "O seu score foi: 100%\n"
     ]
    }
   ],
   "source": [
    "###RESULTADO DA SUBMISSÃO\n",
    "\n",
    "if r.status_code == 200:\n",
    "    print('Parabéns! A requisição foi um sucesso :)')\n",
    "    if r.text[-5:-2] == '100':\n",
    "        print('O seu score foi: '+r.text[9:12]+'%')\n",
    "    else:\n",
    "        print('O seu score foi: '+r.text[9:11]+'%')\n",
    "elif r.status_code == 429:\n",
    "    print('Espere um pouco antes de enviar uma nova tentativa!') \n",
    "else:\n",
    "    print('Cuidado! Existe algum erro no código enviado :(') "
   ]
  }
 ],
 "metadata": {
  "kernelspec": {
   "display_name": "Python 3",
   "language": "python",
   "name": "python3"
  },
  "language_info": {
   "codemirror_mode": {
    "name": "ipython",
    "version": 3
   },
   "file_extension": ".py",
   "mimetype": "text/x-python",
   "name": "python",
   "nbconvert_exporter": "python",
   "pygments_lexer": "ipython3",
   "version": "3.7.4"
  }
 },
 "nbformat": 4,
 "nbformat_minor": 2
}
